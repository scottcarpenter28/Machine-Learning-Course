{
 "cells": [
  {
   "cell_type": "markdown",
   "metadata": {},
   "source": [
    "# Note book imports"
   ]
  },
  {
   "cell_type": "code",
   "execution_count": 8,
   "metadata": {},
   "outputs": [],
   "source": [
    "from os.path import exists, join\n",
    "from os import walk\n",
    "import pandas as pd"
   ]
  },
  {
   "cell_type": "markdown",
   "metadata": {},
   "source": [
    "# Constants"
   ]
  },
  {
   "cell_type": "code",
   "execution_count": 22,
   "metadata": {},
   "outputs": [],
   "source": [
    "EXAMPLE_FILE = \"../spamData/01_Processing/practice_email.txt\"\n",
    "EASY_NONSPAM_1 = \"../SpamData/01_Processing/spam_assassin_corpus/easy_ham_1/\"\n",
    "EASY_NONSPAM_2 = \"../SpamData/01_Processing/spam_assassin_corpus/easy_ham_2/\"\n",
    "SPAM_1 = \"../SpamData/01_Processing/spam_assassin_corpus/spam_1/\"\n",
    "SPAM_2 = \"../SpamData/01_Processing/spam_assassin_corpus/spam_2/\"\n",
    "\n",
    "SPAM_CAT = 1\n",
    "HAM_CAT = 0"
   ]
  },
  {
   "cell_type": "code",
   "execution_count": 3,
   "metadata": {},
   "outputs": [
    {
     "name": "stdout",
     "output_type": "stream",
     "text": [
      "\n",
      "Dear Mr Still\n",
      "\n",
      "Good tidings to you and all your staff for the festive season ahead (Christmas).\n",
      "Now to the crux of the matter-in-hand: I am a fully qualified Santa Claus and am wondering whether you might consider me to run my own \"Santa's Grotto\" in your store.\n",
      "But WAIT! You're probably thinking: \"What makes him so special?\"\n",
      "Well, first of all, I have made several changes to the characterisation of Father Christmas. Rather than greeting the children with shouts of \"Ho, ho, ho!\" I prefer to whisper the phrase \"Dependence is not unfathomable in this cruel world we live in\". In addition, my gifts are ALL hand-made, ranging from felt hoops to vanilla-pod holders.\n",
      "You will note also, from the enclosed sketch, that I have radically redesigned Santa's outfit and have renamed my character \"Lord Buckles\". Would you be interested in employing me? I promise NEVER to let you down.\n",
      "I look forward to hearing from you.\n",
      "\n",
      "Best wishes\n",
      "Robin Cooper\n",
      "[Excerpt from the book: The Timewaster Letters by Robin Cooper]\n",
      "\n"
     ]
    }
   ],
   "source": [
    "with open(EXAMPLE_FILE, \"r\", encoding=\"latin-1\") as ex_in:\n",
    "    is_body = False\n",
    "    lines = []\n",
    "\n",
    "    for line in ex_in.readlines():\n",
    "        if is_body:\n",
    "            lines.append(line)\n",
    "        elif line == \"\\n\":\n",
    "            is_body = True\n",
    "email_body = \"\".join(lines)\n",
    "print(email_body)"
   ]
  },
  {
   "cell_type": "markdown",
   "metadata": {},
   "source": [
    "## Generator function"
   ]
  },
  {
   "cell_type": "code",
   "execution_count": 15,
   "metadata": {},
   "outputs": [],
   "source": [
    "def email_body_generator(rel_path: str):\n",
    "    \"\"\"\"\n",
    "    Walks a directory and yields each file from the directory\n",
    "    :param rel_path: A relative path to a folder.\n",
    "    :yield : A tuple of two strings, the file name and a body of an email\n",
    "    \"\"\"\n",
    "    for root, dirnames, filenames in walk(rel_path):\n",
    "        for file_name in filenames:\n",
    "            file_path = join(root, file_name)\n",
    "            with open(file_path, \"r\", encoding=\"latin-1\") as ex_in:\n",
    "                is_body = False\n",
    "                lines = []\n",
    "\n",
    "                for line in ex_in.readlines():\n",
    "                    if is_body:\n",
    "                        lines.append(line)\n",
    "                    elif line == \"\\n\":\n",
    "                        is_body = True\n",
    "            email_body = \"\".join(lines)\n",
    "            yield file_name, email_body\n"
   ]
  },
  {
   "cell_type": "code",
   "execution_count": 16,
   "metadata": {},
   "outputs": [],
   "source": [
    "def df_from_directory(rel_path: str, classification):\n",
    "    \"\"\"\n",
    "    Loops through a generator function reading email body and names\n",
    "    \"\"\"\n",
    "    rows = []\n",
    "    row_names = []\n",
    "    for file_name, email_body in email_body_generator(rel_path):\n",
    "        rows.append({\"MESSAGE\": email_body, \"CATEGORY\": classification})\n",
    "        row_names.append(file_name)\n",
    "    return pd.DataFrame(rows, index=row_names)"
   ]
  },
  {
   "cell_type": "code",
   "execution_count": 25,
   "metadata": {},
   "outputs": [
    {
     "name": "stderr",
     "output_type": "stream",
     "text": [
      "C:\\Users\\scott\\AppData\\Local\\Temp\\ipykernel_8984\\1403818923.py:2: FutureWarning: The frame.append method is deprecated and will be removed from pandas in a future version. Use pandas.concat instead.\n",
      "  spam_emails = spam_emails.append(df_from_directory(SPAM_2, SPAM_CAT))\n",
      "C:\\Users\\scott\\AppData\\Local\\Temp\\ipykernel_8984\\1403818923.py:5: FutureWarning: The frame.append method is deprecated and will be removed from pandas in a future version. Use pandas.concat instead.\n",
      "  ham_emails = ham_emails.append(df_from_directory(EASY_NONSPAM_2, HAM_CAT))\n"
     ]
    },
    {
     "data": {
      "text/plain": [
       "(3901, 2)"
      ]
     },
     "execution_count": 25,
     "metadata": {},
     "output_type": "execute_result"
    }
   ],
   "source": [
    "spam_emails = df_from_directory(SPAM_1, SPAM_CAT)\n",
    "spam_emails = spam_emails.append(df_from_directory(SPAM_2, SPAM_CAT))\n",
    "\n",
    "ham_emails = df_from_directory(EASY_NONSPAM_1, HAM_CAT)\n",
    "ham_emails = ham_emails.append(df_from_directory(EASY_NONSPAM_2, HAM_CAT))"
   ]
  },
  {
   "cell_type": "code",
   "execution_count": 27,
   "metadata": {},
   "outputs": [
    {
     "name": "stdout",
     "output_type": "stream",
     "text": [
      "Shape of entire df (5799, 2)\n"
     ]
    },
    {
     "data": {
      "text/html": [
       "<div>\n",
       "<style scoped>\n",
       "    .dataframe tbody tr th:only-of-type {\n",
       "        vertical-align: middle;\n",
       "    }\n",
       "\n",
       "    .dataframe tbody tr th {\n",
       "        vertical-align: top;\n",
       "    }\n",
       "\n",
       "    .dataframe thead th {\n",
       "        text-align: right;\n",
       "    }\n",
       "</style>\n",
       "<table border=\"1\" class=\"dataframe\">\n",
       "  <thead>\n",
       "    <tr style=\"text-align: right;\">\n",
       "      <th></th>\n",
       "      <th>MESSAGE</th>\n",
       "      <th>CATEGORY</th>\n",
       "    </tr>\n",
       "  </thead>\n",
       "  <tbody>\n",
       "    <tr>\n",
       "      <th>01396.61983fbe6ec43f55fd44e30fce24ffa6</th>\n",
       "      <td>http://news.bbc.co.uk/1/hi/england/2515127.stm...</td>\n",
       "      <td>0</td>\n",
       "    </tr>\n",
       "    <tr>\n",
       "      <th>01397.9f9ef4c2a8dc012d80f2ce2d3473d3b7</th>\n",
       "      <td>&gt; &gt;-- be careful when using this one.) Also, t...</td>\n",
       "      <td>0</td>\n",
       "    </tr>\n",
       "    <tr>\n",
       "      <th>01398.169b51731fe569f42169ae8f948ec676</th>\n",
       "      <td>&gt;&gt;&gt;&gt;&gt; \"SM\" == Skip Montanaro &lt;skip@pobox.com&gt; ...</td>\n",
       "      <td>0</td>\n",
       "    </tr>\n",
       "    <tr>\n",
       "      <th>01399.ca6b00b7b341bbde9a9ea3dd6a7bf896</th>\n",
       "      <td>So then, \"Mark Hammond\" &lt;mhammond@skippinet.co...</td>\n",
       "      <td>0</td>\n",
       "    </tr>\n",
       "    <tr>\n",
       "      <th>01400.f897f0931e461e7b2e964d28e927c35e</th>\n",
       "      <td>Hi there,\\n\\nNow this is probably of no use to...</td>\n",
       "      <td>0</td>\n",
       "    </tr>\n",
       "  </tbody>\n",
       "</table>\n",
       "</div>"
      ],
      "text/plain": [
       "                                                                                  MESSAGE  \\\n",
       "01396.61983fbe6ec43f55fd44e30fce24ffa6  http://news.bbc.co.uk/1/hi/england/2515127.stm...   \n",
       "01397.9f9ef4c2a8dc012d80f2ce2d3473d3b7  > >-- be careful when using this one.) Also, t...   \n",
       "01398.169b51731fe569f42169ae8f948ec676  >>>>> \"SM\" == Skip Montanaro <skip@pobox.com> ...   \n",
       "01399.ca6b00b7b341bbde9a9ea3dd6a7bf896  So then, \"Mark Hammond\" <mhammond@skippinet.co...   \n",
       "01400.f897f0931e461e7b2e964d28e927c35e  Hi there,\\n\\nNow this is probably of no use to...   \n",
       "\n",
       "                                        CATEGORY  \n",
       "01396.61983fbe6ec43f55fd44e30fce24ffa6         0  \n",
       "01397.9f9ef4c2a8dc012d80f2ce2d3473d3b7         0  \n",
       "01398.169b51731fe569f42169ae8f948ec676         0  \n",
       "01399.ca6b00b7b341bbde9a9ea3dd6a7bf896         0  \n",
       "01400.f897f0931e461e7b2e964d28e927c35e         0  "
      ]
     },
     "execution_count": 27,
     "metadata": {},
     "output_type": "execute_result"
    }
   ],
   "source": [
    "data = pd.concat([spam_emails, ham_emails])\n",
    "print(f\"Shape of entire df {data.shape}\")"
   ]
  },
  {
   "cell_type": "code",
   "execution_count": null,
   "metadata": {},
   "outputs": [],
   "source": []
  }
 ],
 "metadata": {
  "kernelspec": {
   "display_name": "Python 3.9.5 64-bit",
   "language": "python",
   "name": "python3"
  },
  "language_info": {
   "codemirror_mode": {
    "name": "ipython",
    "version": 3
   },
   "file_extension": ".py",
   "mimetype": "text/x-python",
   "name": "python",
   "nbconvert_exporter": "python",
   "pygments_lexer": "ipython3",
   "version": "3.9.5"
  },
  "orig_nbformat": 4,
  "vscode": {
   "interpreter": {
    "hash": "7036c97a19c395f990150d2191d95cb0b15bafc44a51c61e79499b778f47a5df"
   }
  }
 },
 "nbformat": 4,
 "nbformat_minor": 2
}
